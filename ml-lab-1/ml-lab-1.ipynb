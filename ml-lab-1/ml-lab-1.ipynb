{
 "cells": [
  {
   "cell_type": "markdown",
   "metadata": {},
   "source": [
    "Author: AMEEN YARKHAN"
   ]
  },
  {
   "cell_type": "code",
   "execution_count": 1,
   "metadata": {},
   "outputs": [
    {
     "name": "stdout",
     "output_type": "stream",
     "text": [
      "Python version: 3.9.12 (main, Jun  1 2022, 06:34:44) \n",
      "[Clang 12.0.0 ]\n",
      "pandas version: 1.4.2\n",
      "matplotlib version: 3.5.1\n",
      "NumPy version: 1.21.5\n",
      "SciPy version: 1.7.3\n",
      "IPython version: 8.3.0\n",
      "scikit-learn version: 1.0.2\n",
      "yellowbrick version: 1.5\n"
     ]
    }
   ],
   "source": [
    "# paste code from README.md to display versions and run cell\n",
    "import sys\n",
    "print(\"Python version:\", sys.version)\n",
    "\n",
    "import pandas as pd\n",
    "print(\"pandas version:\", pd.__version__)\n",
    "\n",
    "import matplotlib\n",
    "print(\"matplotlib version:\", matplotlib.__version__)\n",
    "\n",
    "import numpy as np\n",
    "print(\"NumPy version:\", np.__version__)\n",
    "\n",
    "import scipy as sp\n",
    "print(\"SciPy version:\", sp.__version__)\n",
    "\n",
    "import IPython\n",
    "print(\"IPython version:\", IPython.__version__)\n",
    "\n",
    "import sklearn\n",
    "print(\"scikit-learn version:\", sklearn.__version__)\n",
    "\n",
    "import yellowbrick\n",
    "print(\"yellowbrick version:\", yellowbrick.__version__)"
   ]
  },
  {
   "cell_type": "code",
   "execution_count": 2,
   "metadata": {},
   "outputs": [
    {
     "name": "stdout",
     "output_type": "stream",
     "text": [
      "# conda environments:\n",
      "#\n",
      "base                  *  /Users/ameenyarkhan/opt/anaconda3\n",
      "ensf-ml                  /Users/ameenyarkhan/opt/anaconda3/envs/ensf-ml\n",
      "\n"
     ]
    }
   ],
   "source": [
    "# run this cell to list conda environments\n",
    "!conda info --envs\n"
   ]
  }
 ],
 "metadata": {
  "kernelspec": {
   "display_name": "Python 3.9.12 ('base')",
   "language": "python",
   "name": "python3"
  },
  "language_info": {
   "codemirror_mode": {
    "name": "ipython",
    "version": 3
   },
   "file_extension": ".py",
   "mimetype": "text/x-python",
   "name": "python",
   "nbconvert_exporter": "python",
   "pygments_lexer": "ipython3",
   "version": "3.9.12"
  },
  "vscode": {
   "interpreter": {
    "hash": "805dd3c4e07083ec131e1f936d9092f34c52878c3b4f561482d74a43e1836f21"
   }
  }
 },
 "nbformat": 4,
 "nbformat_minor": 4
}
